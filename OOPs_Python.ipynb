{
  "nbformat": 4,
  "nbformat_minor": 0,
  "metadata": {
    "colab": {
      "name": "OOPs Python",
      "provenance": [],
      "authorship_tag": "ABX9TyPJi5GoVA9E1vHu9NRf6YWh",
      "include_colab_link": true
    },
    "kernelspec": {
      "name": "python3",
      "display_name": "Python 3"
    },
    "language_info": {
      "name": "python"
    }
  },
  "cells": [
    {
      "cell_type": "markdown",
      "metadata": {
        "id": "view-in-github",
        "colab_type": "text"
      },
      "source": [
        "<a href=\"https://colab.research.google.com/github/DollyMehra/python_basics/blob/master/OOPs_Python.ipynb\" target=\"_parent\"><img src=\"https://colab.research.google.com/assets/colab-badge.svg\" alt=\"Open In Colab\"/></a>"
      ]
    },
    {
      "cell_type": "code",
      "execution_count": 12,
      "metadata": {
        "id": "YAwj9CEroAlc"
      },
      "outputs": [],
      "source": [
        "class Person:\n",
        "  def __init__(self,first_name,last_name, age):\n",
        "    self.first_name = first_name\n",
        "    self.last_name = last_name\n",
        "    self.age = age\n",
        "\n",
        "  def full_name(self):\n",
        "    return f\"{self.first_name ,self.last_name}\"\n",
        "\n",
        "  def is_above_18(self):\n",
        "    return self.age>18  \n",
        "\n",
        "\n"
      ]
    },
    {
      "cell_type": "code",
      "source": [
        "p1 = Person('dolly','mehra',21)\n",
        "p2 = Person('Tom','jerry',17)"
      ],
      "metadata": {
        "id": "D5zB41iiod1v"
      },
      "execution_count": 18,
      "outputs": []
    },
    {
      "cell_type": "code",
      "source": [
        "print(p1.first_name)\n",
        "print(p2.last_name)\n",
        "Person.full_name(p1)\n",
        "Person.is_above_18(p2)"
      ],
      "metadata": {
        "colab": {
          "base_uri": "https://localhost:8080/"
        },
        "id": "u2RjikFdo8_Y",
        "outputId": "81c3d736-3da4-4df4-eb26-4767f5238929"
      },
      "execution_count": 19,
      "outputs": [
        {
          "output_type": "stream",
          "name": "stdout",
          "text": [
            "dolly\n",
            "jerry\n"
          ]
        },
        {
          "output_type": "execute_result",
          "data": {
            "text/plain": [
              "False"
            ]
          },
          "metadata": {},
          "execution_count": 19
        }
      ]
    },
    {
      "cell_type": "code",
      "source": [
        "class Laptop:\n",
        "  def __init__(self,brand_name,model_name,price): #__init__ is constructor\n",
        "    #brand_name is a instance variable\n",
        "    self.brand_name = brand_name\n",
        "    self.model_name = model_name\n",
        "    self.price = price\n",
        "\n",
        "  def apply_discount(self,num):\n",
        "    off_price = (num/100)*self.price\n",
        "    return self.price - off_price\n",
        "  \n"
      ],
      "metadata": {
        "id": "8hxrr9QQpnVq"
      },
      "execution_count": 23,
      "outputs": []
    },
    {
      "cell_type": "code",
      "source": [
        "Laptop1 = Laptop('HP','i5',54000) \n",
        "Laptop2 = Laptop('sony','i3',30000)"
      ],
      "metadata": {
        "id": "Rx7gfg3wqEtV"
      },
      "execution_count": 24,
      "outputs": []
    },
    {
      "cell_type": "code",
      "source": [
        "print(Laptop1.brand_name)\n",
        "print(Laptop2.price)\n",
        "print(Laptop1.apply_discount(10))"
      ],
      "metadata": {
        "colab": {
          "base_uri": "https://localhost:8080/"
        },
        "id": "KTyhTZeCqecw",
        "outputId": "e804f210-902e-42ef-992b-c97481708229"
      },
      "execution_count": 25,
      "outputs": [
        {
          "output_type": "stream",
          "name": "stdout",
          "text": [
            "HP\n",
            "30000\n",
            "48600.0\n"
          ]
        }
      ]
    },
    {
      "cell_type": "code",
      "source": [
        "class Circle:\n",
        "  pi = 3.14 #class variable\n",
        "\n",
        "  def __init__(self,radius):\n",
        "    self.radius = radius\n",
        "\n",
        "  def cal_circumference(self):\n",
        "    return 2*Circle.pi*self.radius  \n"
      ],
      "metadata": {
        "id": "F26r30QT2yn8"
      },
      "execution_count": 31,
      "outputs": []
    },
    {
      "cell_type": "code",
      "source": [
        "c1 = Circle(2)\n"
      ],
      "metadata": {
        "id": "J9scd_Ju2zIv"
      },
      "execution_count": 32,
      "outputs": []
    },
    {
      "cell_type": "code",
      "source": [
        "#calculating the circumference\n",
        "print(c1.cal_circumference())"
      ],
      "metadata": {
        "colab": {
          "base_uri": "https://localhost:8080/"
        },
        "id": "NB8ORP7l3ijE",
        "outputId": "cde75524-adaf-48e7-b973-cf1979be7370"
      },
      "execution_count": 33,
      "outputs": [
        {
          "output_type": "stream",
          "name": "stdout",
          "text": [
            "12.56\n"
          ]
        }
      ]
    },
    {
      "cell_type": "code",
      "source": [
        "#we can also apply discount on all laptops instead of applying seprately , so for applying discount on all latops we can use a class variable\n",
        "class Laptop:\n",
        "  discount_percent = 10\n",
        "  def __init__(self,brand_name,model_name,price): #__init__ is constructor\n",
        "    #brand_name is a instance variable\n",
        "    self.brand_name = brand_name\n",
        "    self.model_name = model_name\n",
        "    self.price = price\n",
        "\n",
        "  def apply_discount(self):\n",
        "    off_price = (Laptop.discount_percent/100)*self.price\n",
        "    return self.price - off_price"
      ],
      "metadata": {
        "id": "crMlNPAV48AJ"
      },
      "execution_count": 37,
      "outputs": []
    },
    {
      "cell_type": "code",
      "source": [
        "Laptop1 = Laptop('HP','i5',54000) \n",
        "Laptop2 = Laptop('sony','i3',30000)"
      ],
      "metadata": {
        "id": "QYzCNY4d5dwh"
      },
      "execution_count": 38,
      "outputs": []
    },
    {
      "cell_type": "code",
      "source": [
        "print(Laptop1.apply_discount())"
      ],
      "metadata": {
        "colab": {
          "base_uri": "https://localhost:8080/"
        },
        "id": "szetDAu85sRS",
        "outputId": "6a7c4c8d-8d61-4892-d976-4468e7637618"
      },
      "execution_count": 39,
      "outputs": [
        {
          "output_type": "stream",
          "name": "stdout",
          "text": [
            "48600.0\n"
          ]
        }
      ]
    },
    {
      "cell_type": "code",
      "source": [
        "#now if we dont want to apply discount on a particular laptop then what we should do in this case, iit may be a differnt discount value instead of 10\n",
        "class Laptop:\n",
        "  discount_percent = 10\n",
        "  def __init__(self,brand_name,model_name,price): #__init__ is constructor\n",
        "    #brand_name is a instance variable\n",
        "    self.brand_name = brand_name\n",
        "    self.model_name = model_name\n",
        "    self.price = price\n",
        "\n",
        "  def apply_discount(self):\n",
        "    off_price = (self.discount_percent/100)*self.price\n",
        "    return self.price - off_price"
      ],
      "metadata": {
        "id": "iL9uRumK7ztJ"
      },
      "execution_count": 46,
      "outputs": []
    },
    {
      "cell_type": "code",
      "source": [
        "Laptop1 = Laptop('HP','i5',54000) \n",
        "print(Laptop1.__dict__)#by using dict we can see how many attributes have in an object\n",
        "#i dont want to apply a discount on hp laptop 10 .\n",
        "#but i want to set a discount value on hp latop is 50 so i can speciall set discount value \n",
        "Laptop1.discount_percent = 50\n",
        "print(Laptop1.__dict__)#now we can see one attribute is added in laptop1 of dscount percent\n",
        "print(Laptop1.apply_discount())#but it will give still 48600 on hp laptop so we will use \"self\" keyword in apply_discount instead of using the class \"Laptop\"\n",
        "Laptop2 = Laptop('sony','i3',30000)"
      ],
      "metadata": {
        "colab": {
          "base_uri": "https://localhost:8080/"
        },
        "id": "Q5XvWQKg8GVt",
        "outputId": "bbb4f145-4447-4730-89f4-e4cc363c57cb"
      },
      "execution_count": 47,
      "outputs": [
        {
          "output_type": "stream",
          "name": "stdout",
          "text": [
            "{'brand_name': 'HP', 'model_name': 'i5', 'price': 54000}\n",
            "{'brand_name': 'HP', 'model_name': 'i5', 'price': 54000, 'discount_percent': 50}\n",
            "27000.0\n"
          ]
        }
      ]
    },
    {
      "cell_type": "code",
      "source": [
        "print(Laptop1.apply_discount())"
      ],
      "metadata": {
        "colab": {
          "base_uri": "https://localhost:8080/"
        },
        "id": "dRmCqWEj8JEb",
        "outputId": "471e76de-15e3-43b4-9f3b-675c2c6c2100"
      },
      "execution_count": 48,
      "outputs": [
        {
          "output_type": "stream",
          "name": "stdout",
          "text": [
            "27000.0\n"
          ]
        }
      ]
    },
    {
      "cell_type": "code",
      "source": [
        "#for counting the number of instances means objects\n",
        "class Person:\n",
        "  count_instance = 0\n",
        "  def __init__(self,first_name,last_name,age):\n",
        "    Person.count_instance += 1\n",
        "    self.first_name = first_name\n",
        "    self.last_name = last_name\n",
        "    self.age = age\n",
        "\n"
      ],
      "metadata": {
        "id": "ysjCPrVf_VF2"
      },
      "execution_count": 55,
      "outputs": []
    },
    {
      "cell_type": "code",
      "source": [
        "p1 = Person('dolly','mehra',21)\n",
        "p2 = Person('Tom','jerry',17)\n",
        "p3 = Person('jack','jully',17)"
      ],
      "metadata": {
        "id": "3d3wZi1T_1gu"
      },
      "execution_count": 56,
      "outputs": []
    },
    {
      "cell_type": "code",
      "source": [
        "print(Person.count_instance)"
      ],
      "metadata": {
        "colab": {
          "base_uri": "https://localhost:8080/"
        },
        "id": "v4gDXE6jAHsB",
        "outputId": "226c9201-cd85-4085-c668-eba53281c927"
      },
      "execution_count": 57,
      "outputs": [
        {
          "output_type": "stream",
          "name": "stdout",
          "text": [
            "3\n"
          ]
        }
      ]
    },
    {
      "cell_type": "code",
      "source": [
        "#class method i dont understand\n",
        "#OOP Class Methods : Python tutorial 194\n",
        "#Class Method as a constructor : Python tutorial 195\n",
        "#so first i have to understand decorators concept\n"
      ],
      "metadata": {
        "id": "xEdlDhL4DMfZ"
      },
      "execution_count": null,
      "outputs": []
    }
  ]
}